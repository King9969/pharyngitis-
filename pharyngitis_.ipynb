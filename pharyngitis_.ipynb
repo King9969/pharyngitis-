{
  "nbformat": 4,
  "nbformat_minor": 0,
  "metadata": {
    "colab": {
      "provenance": [],
      "collapsed_sections": []
    },
    "kernelspec": {
      "name": "python3",
      "display_name": "Python 3"
    },
    "language_info": {
      "name": "python"
    }
  },
  "cells": [
    {
      "cell_type": "code",
      "source": [
        "from keras.models import load_model\n",
        "from PIL import Image, ImageOps\n",
        "import numpy as np\n",
        "\n",
        "\n",
        "model = load_model('keras_model.h5')\n",
        "class_names=[\"YES\",\"NO\"]\n",
        "data = np.ndarray(shape=(1, 224, 224, 3), dtype=np.float32)\n",
        "image = Image.open('/content/sample_data/no (3).JPG').convert('RGB')\n",
        "image = ImageOps.fit(image,(224, 224), Image.ANTIALIAS)\n",
        "\n",
        "image_array = np.asarray(image)\n",
        "\n",
        "normalized_image_array = (image_array.astype(np.float32) / 127.0) - 1\n",
        "\n",
        "data[0] = normalized_image_array\n",
        "\n",
        "prediction = model.predict(data)\n",
        "index = np.argmax(prediction)\n",
        "class_name = class_names[index]\n",
        "confidence_score = prediction[0][index]\n",
        "\n",
        "print(\"is it a pharyngitis : \", class_name)\n",
        "print(\"how much confident: \", confidence_score)\n"
      ],
      "metadata": {
        "colab": {
          "base_uri": "https://localhost:8080/"
        },
        "id": "DfhN_yXWh1tj",
        "outputId": "11e4bfcc-194c-4456-ca6c-4e6beb14dda3"
      },
      "execution_count": 6,
      "outputs": [
        {
          "output_type": "stream",
          "name": "stderr",
          "text": [
            "WARNING:tensorflow:No training configuration found in the save file, so the model was *not* compiled. Compile it manually.\n"
          ]
        },
        {
          "output_type": "stream",
          "name": "stdout",
          "text": [
            "is it a pharyngitis :  NO\n",
            "how much confident:  1.0\n"
          ]
        }
      ]
    },
    {
      "cell_type": "code",
      "source": [],
      "metadata": {
        "id": "4SonE24iLyuK"
      },
      "execution_count": null,
      "outputs": []
    }
  ]
}